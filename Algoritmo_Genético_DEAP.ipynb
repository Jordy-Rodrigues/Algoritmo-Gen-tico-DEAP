{
  "nbformat": 4,
  "nbformat_minor": 0,
  "metadata": {
    "colab": {
      "name": "Algoritmo Genético DEAP",
      "provenance": [],
      "collapsed_sections": [],
      "authorship_tag": "ABX9TyOp8b7F6j+C9rMyFscOkYrW",
      "include_colab_link": true
    },
    "kernelspec": {
      "name": "python3",
      "display_name": "Python 3"
    },
    "language_info": {
      "name": "python"
    }
  },
  "cells": [
    {
      "cell_type": "markdown",
      "metadata": {
        "id": "view-in-github",
        "colab_type": "text"
      },
      "source": [
        "<a href=\"https://colab.research.google.com/github/Jordy-Rodrigues/Algoritmo-Gen-tico-DEAP/blob/main/Algoritmo_Gen%C3%A9tico_DEAP.ipynb\" target=\"_parent\"><img src=\"https://colab.research.google.com/assets/colab-badge.svg\" alt=\"Open In Colab\"/></a>"
      ]
    },
    {
      "cell_type": "code",
      "execution_count": 339,
      "metadata": {
        "colab": {
          "base_uri": "https://localhost:8080/"
        },
        "id": "5RCylVvVU5uU",
        "outputId": "d8af3475-aaa0-4a59-9fb0-2c2f1993d8be"
      },
      "outputs": [
        {
          "output_type": "stream",
          "name": "stdout",
          "text": [
            "Requirement already satisfied: deap in /usr/local/lib/python3.7/dist-packages (1.3.1)\n",
            "Requirement already satisfied: numpy in /usr/local/lib/python3.7/dist-packages (from deap) (1.21.6)\n"
          ]
        }
      ],
      "source": [
        "# FAZER A INSTALAÇÃO DA BIBLIOTECA\n",
        "!pip install deap"
      ]
    },
    {
      "cell_type": "code",
      "source": [
        "# IMPORTAR AS BIBLIOTECAS BÁSICAS\n",
        "import numpy as np\n",
        "import matplotlib.pyplot as plt\n",
        "\n",
        "# IMPORTAR AS BIBLIOTECAS DE MACHINE LEARNING\n",
        "from deap import creator\n",
        "from deap import base\n",
        "from deap import tools\n",
        "from deap import algorithms"
      ],
      "metadata": {
        "id": "_sY0BvrdVs-f"
      },
      "execution_count": 340,
      "outputs": []
    },
    {
      "cell_type": "code",
      "source": [
        "# REGISTRO\n",
        "# 'toolbox' = FERRAMENTA, ONDE SERÁ REGISTRADO OS OBJETIVOS E ELEMENTOS DO ALGORITMO GENÉTICO\n",
        "toolbox = base.Toolbox()\n",
        "\n",
        "# NÚMEROS DE GENES\n",
        "n = 4\n",
        "\n",
        "# CRIAÇÃO DA APTIDÃO DE MINIMIZAÇÃO, MAXIMIZAÇÃO, E MÚLTIPLOS OBJETIVOS \n",
        "# OBS: 'WEIGHT' É O PESO QUE SERÁ USADO, E O PESO É LIDO EM PORCENTAGEM\n",
        "creator.create('FitnessMin', base.Fitness,weights=(-1.0,))\n",
        "\n",
        "# CRIAÇÃO DOS CROMOSSOMOS, DEFINO COMO OS INDIVÍDUOS VÃO SER REPRESENTADOS \n",
        "# DEFINO COMO 'LISTA' E CADA LISTA REPRESENTA UM GENE\n",
        "creator.create('EstruturaIndividuo',list, fitness = creator.FitnessMin)\n",
        "\n",
        "# PERMUTAÇÃO DOS ELEMENTOS\n",
        "# REGISTRO DO NÚMERO DE GENES\n",
        "toolbox.register('Genes', np.random.permutation, n)\n",
        "\n",
        "# REGISTRO DE INDIVÍDUOS\n",
        "# REGISTRAR OS CROMOSSOMOS DOS INDIVÍDUOS\n",
        "toolbox.register('Individuos', tools.initIterate, creator.EstruturaIndividuo, toolbox.Genes)\n",
        "\n",
        "# REGISTRO DA POPULAÇÃO\n",
        "# SERÁ UMA LISTA DE INDIVÍDUOS\n",
        "toolbox.register('Populaçao', tools.initRepeat, list, toolbox.Individuos)\n",
        "\n",
        "# NÚMERO DE POPULAÇÃO\n",
        "pop = toolbox.Populaçao (n=10)\n",
        "\n",
        "# REGISTRO DE OPERADORES\n",
        "# TIPOS: CROSSOVER, MUTATION, E SELECTION\n",
        "\n",
        "toolbox.register('mate', tools.cxPartialyMatched)\n",
        "# REALIZA TROCAS NO SENTIDO DE PAI1 PARA PAI2 E DEPOIS NO SENTIDO INVERSO, DE PAI 2 PARA PAI1, PARA EVITAR CROMOSSOMOS INVÁLIDOS\n",
        "toolbox.register('mutate', tools.mutShuffleIndexes, indpb = 0.1)\n",
        "# TROCA O ELEMENTO DA POSIÇÃO i COM O ELEMENTOS DA POSIÇÃO j, PROBABILIDADE DE MUTAÇÃO DO GENE DEFINI COMO 10%\n",
        "toolbox.register('select', tools.selTournament, tournsize = 2)\n",
        "# SELEÇÃO POR TORNEIO "
      ],
      "metadata": {
        "colab": {
          "base_uri": "https://localhost:8080/"
        },
        "id": "U8PMzepTaO41",
        "outputId": "a22bf8eb-0206-41f9-eb2d-8310232130d1"
      },
      "execution_count": 341,
      "outputs": [
        {
          "output_type": "stream",
          "name": "stderr",
          "text": [
            "/usr/local/lib/python3.7/dist-packages/deap/creator.py:141: RuntimeWarning: A class named 'FitnessMin' has already been created and it will be overwritten. Consider deleting previous creation of that class or rename it.\n",
            "  RuntimeWarning)\n",
            "/usr/local/lib/python3.7/dist-packages/deap/creator.py:141: RuntimeWarning: A class named 'EstruturaIndividuo' has already been created and it will be overwritten. Consider deleting previous creation of that class or rename it.\n",
            "  RuntimeWarning)\n"
          ]
        }
      ]
    },
    {
      "cell_type": "code",
      "source": [
        "# MATRIX ORIGEM DESTINO\n",
        "dist = [[0, 7, 9, 2],\n",
        "        [4, 0, 3, 7],\n",
        "        [6, 7, 0, 8],\n",
        "        [2, 3, 8, 0]]"
      ],
      "metadata": {
        "id": "4aVq6HJKi_xW"
      },
      "execution_count": 342,
      "outputs": []
    },
    {
      "cell_type": "code",
      "source": [
        "# FUNÇÃO DE APTIDÃO\n",
        "def aptidao (Individuos):\n",
        "  f = 0\n",
        "  for i in range (n-1):\n",
        "    local1 = Individuos[i]\n",
        "    local2 = Individuos[i + 1]\n",
        "    distancia = dist[local1][local2]\n",
        "    f = f + distancia\n",
        "\n",
        "  return f,\n",
        "# IMPORTÂNCIA DA VÍRGULA: TEMOS QUE RETORNAR UMA APTIDÃO MULTI OBJETIVO"
      ],
      "metadata": {
        "id": "uxbKTYhkjbII"
      },
      "execution_count": 343,
      "outputs": []
    },
    {
      "cell_type": "code",
      "source": [
        "# REGISTRO DA EVOLUÇÃO DA APTIDÃO DE CADA INDIVÍDUO A CADA GERAÇÃO\n",
        "toolbox.register('evaluate', aptidao)"
      ],
      "metadata": {
        "id": "Yxu_CuJ5khrI"
      },
      "execution_count": 344,
      "outputs": []
    },
    {
      "cell_type": "code",
      "source": [
        "# SALVAR OS MELHORES INDIVÍDUOS E APTIDÃO A CADA GERAÇÃO\n",
        "# SALVAR ATRAVÉS DO MÓDULO DE ESTATÍSTICA\n",
        "def EstatisticaSalvar (Individuos):\n",
        "  return Individuos.fitness.values"
      ],
      "metadata": {
        "id": "Q0ihDJBtlp2a"
      },
      "execution_count": 345,
      "outputs": []
    },
    {
      "cell_type": "code",
      "source": [
        "# REGISTRAR A ESTATÍSTICA A SER SALVA\n",
        "# SALVAR A ESTATÍSTICA DA MÉDIA, MÍNIMA E MÁXIMA DE CADA INDIVÍDUO\n",
        "estatistica = tools.Statistics (EstatisticaSalvar)\n",
        "estatistica.register ('mean', np.mean)\n",
        "estatistica.register ('min', np.min)\n",
        "estatistica.register ('max', np.max)"
      ],
      "metadata": {
        "id": "kgoaT8sxmKoU"
      },
      "execution_count": 346,
      "outputs": []
    },
    {
      "cell_type": "code",
      "source": [
        "# DEFINIR QUANTOS VALORES ÓTIMOS DEVO SALVAR NA LISTA\n",
        "# OU EM OUTRAS PALAVRAS, QUANTOS DOS MELHORES O ALGORITMO DEVE SALVAR\n",
        "geraçao = tools.HallOfFame(1)"
      ],
      "metadata": {
        "id": "AhjDu0lsoYix"
      },
      "execution_count": 347,
      "outputs": []
    },
    {
      "cell_type": "code",
      "source": [
        "# EXECUTAR O ALGORITMO GENÉTICO\n",
        "# pop = POPULAÇÃO / toolbox = toolbox / cxpb = PROBABILIDADE DE CROSSOVER / mutpb = PROBABILIDADE DE MUTAÇÃO\n",
        "# stats = ESTATÍSTICA / ngen = NÚMERO DE GERAÇÕES / halloffame = halloffame / verbose = IMPRIMIR RESULTADO AO LONGO DA EXECUÇÃO\n",
        "result, log = algorithms.eaSimple (pop, \n",
        "                                  toolbox,\n",
        "                                  cxpb= 0.8, \n",
        "                                  mutpb= 0.1,\n",
        "                                  stats=estatistica,\n",
        "                                  ngen= 100,\n",
        "                                  halloffame=geraçao, \n",
        "                                  verbose=True)"
      ],
      "metadata": {
        "colab": {
          "base_uri": "https://localhost:8080/"
        },
        "id": "mkrIYnUWolqn",
        "outputId": "8897aa66-2b07-4a7f-976b-4bc305186cb5"
      },
      "execution_count": 348,
      "outputs": [
        {
          "output_type": "stream",
          "name": "stdout",
          "text": [
            "gen\tnevals\tmean\tmin\tmax\n",
            "0  \t10    \t16.5\t8  \t22 \n",
            "1  \t6     \t14.9\t8  \t22 \n",
            "2  \t6     \t14.4\t8  \t21 \n",
            "3  \t8     \t15.3\t8  \t22 \n",
            "4  \t9     \t12.6\t8  \t19 \n",
            "5  \t8     \t11.9\t8  \t21 \n",
            "6  \t10    \t9.4 \t8  \t15 \n",
            "7  \t8     \t11.2\t8  \t23 \n",
            "8  \t8     \t10.5\t8  \t23 \n",
            "9  \t6     \t9.5 \t8  \t23 \n",
            "10 \t10    \t8   \t8  \t8  \n",
            "11 \t8     \t8   \t8  \t8  \n",
            "12 \t10    \t8   \t8  \t8  \n",
            "13 \t8     \t8   \t8  \t8  \n",
            "14 \t10    \t8   \t8  \t8  \n",
            "15 \t9     \t8.9 \t8  \t17 \n",
            "16 \t9     \t10.3\t8  \t22 \n",
            "17 \t6     \t8   \t8  \t8  \n",
            "18 \t6     \t8   \t8  \t8  \n",
            "19 \t9     \t8   \t8  \t8  \n",
            "20 \t8     \t9.4 \t8  \t22 \n",
            "21 \t8     \t8   \t8  \t8  \n",
            "22 \t6     \t8   \t8  \t8  \n",
            "23 \t7     \t8   \t8  \t8  \n",
            "24 \t8     \t8   \t8  \t8  \n",
            "25 \t10    \t9   \t8  \t18 \n",
            "26 \t8     \t8   \t8  \t8  \n",
            "27 \t9     \t9.4 \t8  \t18 \n",
            "28 \t8     \t10.4\t8  \t22 \n",
            "29 \t10    \t8   \t8  \t8  \n",
            "30 \t8     \t8   \t8  \t8  \n",
            "31 \t8     \t8   \t8  \t8  \n",
            "32 \t8     \t9   \t8  \t18 \n",
            "33 \t6     \t8   \t8  \t8  \n",
            "34 \t6     \t8   \t8  \t8  \n",
            "35 \t6     \t8   \t8  \t8  \n",
            "36 \t8     \t8   \t8  \t8  \n",
            "37 \t10    \t8   \t8  \t8  \n",
            "38 \t8     \t8   \t8  \t8  \n",
            "39 \t10    \t8   \t8  \t8  \n",
            "40 \t5     \t8   \t8  \t8  \n",
            "41 \t10    \t8   \t8  \t8  \n",
            "42 \t5     \t9.3 \t8  \t21 \n",
            "43 \t8     \t8   \t8  \t8  \n",
            "44 \t8     \t8   \t8  \t8  \n",
            "45 \t10    \t8   \t8  \t8  \n",
            "46 \t8     \t8   \t8  \t8  \n",
            "47 \t8     \t8   \t8  \t8  \n",
            "48 \t8     \t9.2 \t8  \t20 \n",
            "49 \t7     \t9.3 \t8  \t21 \n",
            "50 \t6     \t8   \t8  \t8  \n",
            "51 \t10    \t8.9 \t8  \t17 \n",
            "52 \t10    \t8   \t8  \t8  \n",
            "53 \t7     \t8.7 \t8  \t15 \n",
            "54 \t6     \t8   \t8  \t8  \n",
            "55 \t6     \t8   \t8  \t8  \n",
            "56 \t10    \t8   \t8  \t8  \n",
            "57 \t10    \t8   \t8  \t8  \n",
            "58 \t8     \t8   \t8  \t8  \n",
            "59 \t10    \t8   \t8  \t8  \n",
            "60 \t8     \t9.1 \t8  \t19 \n",
            "61 \t8     \t10.9\t8  \t23 \n",
            "62 \t10    \t8   \t8  \t8  \n",
            "63 \t10    \t8.7 \t8  \t15 \n",
            "64 \t8     \t8   \t8  \t8  \n",
            "65 \t8     \t8   \t8  \t8  \n",
            "66 \t10    \t8   \t8  \t8  \n",
            "67 \t10    \t8   \t8  \t8  \n",
            "68 \t8     \t8   \t8  \t8  \n",
            "69 \t8     \t8   \t8  \t8  \n",
            "70 \t8     \t8.4 \t8  \t12 \n",
            "71 \t8     \t8.7 \t8  \t15 \n",
            "72 \t8     \t9.4 \t8  \t18 \n",
            "73 \t6     \t8   \t8  \t8  \n",
            "74 \t7     \t8   \t8  \t8  \n",
            "75 \t8     \t8   \t8  \t8  \n",
            "76 \t10    \t9.4 \t8  \t22 \n",
            "77 \t8     \t8   \t8  \t8  \n",
            "78 \t10    \t8   \t8  \t8  \n",
            "79 \t8     \t8.7 \t8  \t15 \n",
            "80 \t8     \t8   \t8  \t8  \n",
            "81 \t8     \t8   \t8  \t8  \n",
            "82 \t10    \t8   \t8  \t8  \n",
            "83 \t8     \t9.1 \t8  \t19 \n",
            "84 \t9     \t8   \t8  \t8  \n",
            "85 \t6     \t8   \t8  \t8  \n",
            "86 \t9     \t8   \t8  \t8  \n",
            "87 \t7     \t10.6\t8  \t18 \n",
            "88 \t9     \t9.6 \t8  \t17 \n",
            "89 \t10    \t8.7 \t8  \t15 \n",
            "90 \t10    \t9.7 \t8  \t18 \n",
            "91 \t10    \t8   \t8  \t8  \n",
            "92 \t8     \t8   \t8  \t8  \n",
            "93 \t10    \t8   \t8  \t8  \n",
            "94 \t10    \t9.5 \t8  \t23 \n",
            "95 \t10    \t8   \t8  \t8  \n",
            "96 \t8     \t8   \t8  \t8  \n",
            "97 \t8     \t9.5 \t8  \t23 \n",
            "98 \t10    \t8   \t8  \t8  \n",
            "99 \t10    \t8   \t8  \t8  \n",
            "100\t10    \t8   \t8  \t8  \n"
          ]
        }
      ]
    },
    {
      "cell_type": "code",
      "source": [
        "# MOSTRAR O RESULTADO DAS MELHORES POPULAÇÕES\n",
        "print(result)"
      ],
      "metadata": {
        "colab": {
          "base_uri": "https://localhost:8080/"
        },
        "id": "WXrWEbL9UMl5",
        "outputId": "2c3822a0-de47-42cb-dd22-d7f8314c2546"
      },
      "execution_count": 349,
      "outputs": [
        {
          "output_type": "stream",
          "name": "stdout",
          "text": [
            "[[0, 3, 1, 2], [0, 3, 1, 2], [0, 3, 1, 2], [0, 3, 1, 2], [0, 3, 1, 2], [0, 3, 1, 2], [0, 3, 1, 2], [0, 3, 1, 2], [0, 3, 1, 2], [0, 3, 1, 2]]\n"
          ]
        }
      ]
    },
    {
      "cell_type": "code",
      "source": [
        "# MOSTRAR O MELHOR INDIVÍDUO\n",
        "print(geraçao)"
      ],
      "metadata": {
        "colab": {
          "base_uri": "https://localhost:8080/"
        },
        "id": "Hm2RcucUUPwv",
        "outputId": "69c0da80-826c-4692-d567-bd464859aeac"
      },
      "execution_count": 350,
      "outputs": [
        {
          "output_type": "stream",
          "name": "stdout",
          "text": [
            "[[0, 3, 1, 2]]\n"
          ]
        }
      ]
    },
    {
      "cell_type": "code",
      "source": [
        "# MOSTRAR A MELHOR APTIDÃO\n",
        "melhor = geraçao[0]\n",
        "print(melhor)\n",
        "aptidao(melhor)"
      ],
      "metadata": {
        "colab": {
          "base_uri": "https://localhost:8080/"
        },
        "id": "4Eaq5r7FUucl",
        "outputId": "2ca9d113-fa7c-4742-ca43-ca59088a9a70"
      },
      "execution_count": 351,
      "outputs": [
        {
          "output_type": "stream",
          "name": "stdout",
          "text": [
            "[0, 3, 1, 2]\n"
          ]
        },
        {
          "output_type": "execute_result",
          "data": {
            "text/plain": [
              "(8,)"
            ]
          },
          "metadata": {},
          "execution_count": 351
        }
      ]
    },
    {
      "cell_type": "code",
      "source": [
        "# MOSTRAR O LOG A CADA GERAÇÃO\n",
        "log"
      ],
      "metadata": {
        "colab": {
          "base_uri": "https://localhost:8080/"
        },
        "id": "ya7NlkBhVAS5",
        "outputId": "150d4bee-26ec-4f23-b50a-eb613ad58c58"
      },
      "execution_count": 352,
      "outputs": [
        {
          "output_type": "execute_result",
          "data": {
            "text/plain": [
              "[{'gen': 0, 'max': 22.0, 'mean': 16.5, 'min': 8.0, 'nevals': 10},\n",
              " {'gen': 1, 'max': 22.0, 'mean': 14.9, 'min': 8.0, 'nevals': 6},\n",
              " {'gen': 2, 'max': 21.0, 'mean': 14.4, 'min': 8.0, 'nevals': 6},\n",
              " {'gen': 3, 'max': 22.0, 'mean': 15.3, 'min': 8.0, 'nevals': 8},\n",
              " {'gen': 4, 'max': 19.0, 'mean': 12.6, 'min': 8.0, 'nevals': 9},\n",
              " {'gen': 5, 'max': 21.0, 'mean': 11.9, 'min': 8.0, 'nevals': 8},\n",
              " {'gen': 6, 'max': 15.0, 'mean': 9.4, 'min': 8.0, 'nevals': 10},\n",
              " {'gen': 7, 'max': 23.0, 'mean': 11.2, 'min': 8.0, 'nevals': 8},\n",
              " {'gen': 8, 'max': 23.0, 'mean': 10.5, 'min': 8.0, 'nevals': 8},\n",
              " {'gen': 9, 'max': 23.0, 'mean': 9.5, 'min': 8.0, 'nevals': 6},\n",
              " {'gen': 10, 'max': 8.0, 'mean': 8.0, 'min': 8.0, 'nevals': 10},\n",
              " {'gen': 11, 'max': 8.0, 'mean': 8.0, 'min': 8.0, 'nevals': 8},\n",
              " {'gen': 12, 'max': 8.0, 'mean': 8.0, 'min': 8.0, 'nevals': 10},\n",
              " {'gen': 13, 'max': 8.0, 'mean': 8.0, 'min': 8.0, 'nevals': 8},\n",
              " {'gen': 14, 'max': 8.0, 'mean': 8.0, 'min': 8.0, 'nevals': 10},\n",
              " {'gen': 15, 'max': 17.0, 'mean': 8.9, 'min': 8.0, 'nevals': 9},\n",
              " {'gen': 16, 'max': 22.0, 'mean': 10.3, 'min': 8.0, 'nevals': 9},\n",
              " {'gen': 17, 'max': 8.0, 'mean': 8.0, 'min': 8.0, 'nevals': 6},\n",
              " {'gen': 18, 'max': 8.0, 'mean': 8.0, 'min': 8.0, 'nevals': 6},\n",
              " {'gen': 19, 'max': 8.0, 'mean': 8.0, 'min': 8.0, 'nevals': 9},\n",
              " {'gen': 20, 'max': 22.0, 'mean': 9.4, 'min': 8.0, 'nevals': 8},\n",
              " {'gen': 21, 'max': 8.0, 'mean': 8.0, 'min': 8.0, 'nevals': 8},\n",
              " {'gen': 22, 'max': 8.0, 'mean': 8.0, 'min': 8.0, 'nevals': 6},\n",
              " {'gen': 23, 'max': 8.0, 'mean': 8.0, 'min': 8.0, 'nevals': 7},\n",
              " {'gen': 24, 'max': 8.0, 'mean': 8.0, 'min': 8.0, 'nevals': 8},\n",
              " {'gen': 25, 'max': 18.0, 'mean': 9.0, 'min': 8.0, 'nevals': 10},\n",
              " {'gen': 26, 'max': 8.0, 'mean': 8.0, 'min': 8.0, 'nevals': 8},\n",
              " {'gen': 27, 'max': 18.0, 'mean': 9.4, 'min': 8.0, 'nevals': 9},\n",
              " {'gen': 28, 'max': 22.0, 'mean': 10.4, 'min': 8.0, 'nevals': 8},\n",
              " {'gen': 29, 'max': 8.0, 'mean': 8.0, 'min': 8.0, 'nevals': 10},\n",
              " {'gen': 30, 'max': 8.0, 'mean': 8.0, 'min': 8.0, 'nevals': 8},\n",
              " {'gen': 31, 'max': 8.0, 'mean': 8.0, 'min': 8.0, 'nevals': 8},\n",
              " {'gen': 32, 'max': 18.0, 'mean': 9.0, 'min': 8.0, 'nevals': 8},\n",
              " {'gen': 33, 'max': 8.0, 'mean': 8.0, 'min': 8.0, 'nevals': 6},\n",
              " {'gen': 34, 'max': 8.0, 'mean': 8.0, 'min': 8.0, 'nevals': 6},\n",
              " {'gen': 35, 'max': 8.0, 'mean': 8.0, 'min': 8.0, 'nevals': 6},\n",
              " {'gen': 36, 'max': 8.0, 'mean': 8.0, 'min': 8.0, 'nevals': 8},\n",
              " {'gen': 37, 'max': 8.0, 'mean': 8.0, 'min': 8.0, 'nevals': 10},\n",
              " {'gen': 38, 'max': 8.0, 'mean': 8.0, 'min': 8.0, 'nevals': 8},\n",
              " {'gen': 39, 'max': 8.0, 'mean': 8.0, 'min': 8.0, 'nevals': 10},\n",
              " {'gen': 40, 'max': 8.0, 'mean': 8.0, 'min': 8.0, 'nevals': 5},\n",
              " {'gen': 41, 'max': 8.0, 'mean': 8.0, 'min': 8.0, 'nevals': 10},\n",
              " {'gen': 42, 'max': 21.0, 'mean': 9.3, 'min': 8.0, 'nevals': 5},\n",
              " {'gen': 43, 'max': 8.0, 'mean': 8.0, 'min': 8.0, 'nevals': 8},\n",
              " {'gen': 44, 'max': 8.0, 'mean': 8.0, 'min': 8.0, 'nevals': 8},\n",
              " {'gen': 45, 'max': 8.0, 'mean': 8.0, 'min': 8.0, 'nevals': 10},\n",
              " {'gen': 46, 'max': 8.0, 'mean': 8.0, 'min': 8.0, 'nevals': 8},\n",
              " {'gen': 47, 'max': 8.0, 'mean': 8.0, 'min': 8.0, 'nevals': 8},\n",
              " {'gen': 48, 'max': 20.0, 'mean': 9.2, 'min': 8.0, 'nevals': 8},\n",
              " {'gen': 49, 'max': 21.0, 'mean': 9.3, 'min': 8.0, 'nevals': 7},\n",
              " {'gen': 50, 'max': 8.0, 'mean': 8.0, 'min': 8.0, 'nevals': 6},\n",
              " {'gen': 51, 'max': 17.0, 'mean': 8.9, 'min': 8.0, 'nevals': 10},\n",
              " {'gen': 52, 'max': 8.0, 'mean': 8.0, 'min': 8.0, 'nevals': 10},\n",
              " {'gen': 53, 'max': 15.0, 'mean': 8.7, 'min': 8.0, 'nevals': 7},\n",
              " {'gen': 54, 'max': 8.0, 'mean': 8.0, 'min': 8.0, 'nevals': 6},\n",
              " {'gen': 55, 'max': 8.0, 'mean': 8.0, 'min': 8.0, 'nevals': 6},\n",
              " {'gen': 56, 'max': 8.0, 'mean': 8.0, 'min': 8.0, 'nevals': 10},\n",
              " {'gen': 57, 'max': 8.0, 'mean': 8.0, 'min': 8.0, 'nevals': 10},\n",
              " {'gen': 58, 'max': 8.0, 'mean': 8.0, 'min': 8.0, 'nevals': 8},\n",
              " {'gen': 59, 'max': 8.0, 'mean': 8.0, 'min': 8.0, 'nevals': 10},\n",
              " {'gen': 60, 'max': 19.0, 'mean': 9.1, 'min': 8.0, 'nevals': 8},\n",
              " {'gen': 61, 'max': 23.0, 'mean': 10.9, 'min': 8.0, 'nevals': 8},\n",
              " {'gen': 62, 'max': 8.0, 'mean': 8.0, 'min': 8.0, 'nevals': 10},\n",
              " {'gen': 63, 'max': 15.0, 'mean': 8.7, 'min': 8.0, 'nevals': 10},\n",
              " {'gen': 64, 'max': 8.0, 'mean': 8.0, 'min': 8.0, 'nevals': 8},\n",
              " {'gen': 65, 'max': 8.0, 'mean': 8.0, 'min': 8.0, 'nevals': 8},\n",
              " {'gen': 66, 'max': 8.0, 'mean': 8.0, 'min': 8.0, 'nevals': 10},\n",
              " {'gen': 67, 'max': 8.0, 'mean': 8.0, 'min': 8.0, 'nevals': 10},\n",
              " {'gen': 68, 'max': 8.0, 'mean': 8.0, 'min': 8.0, 'nevals': 8},\n",
              " {'gen': 69, 'max': 8.0, 'mean': 8.0, 'min': 8.0, 'nevals': 8},\n",
              " {'gen': 70, 'max': 12.0, 'mean': 8.4, 'min': 8.0, 'nevals': 8},\n",
              " {'gen': 71, 'max': 15.0, 'mean': 8.7, 'min': 8.0, 'nevals': 8},\n",
              " {'gen': 72, 'max': 18.0, 'mean': 9.4, 'min': 8.0, 'nevals': 8},\n",
              " {'gen': 73, 'max': 8.0, 'mean': 8.0, 'min': 8.0, 'nevals': 6},\n",
              " {'gen': 74, 'max': 8.0, 'mean': 8.0, 'min': 8.0, 'nevals': 7},\n",
              " {'gen': 75, 'max': 8.0, 'mean': 8.0, 'min': 8.0, 'nevals': 8},\n",
              " {'gen': 76, 'max': 22.0, 'mean': 9.4, 'min': 8.0, 'nevals': 10},\n",
              " {'gen': 77, 'max': 8.0, 'mean': 8.0, 'min': 8.0, 'nevals': 8},\n",
              " {'gen': 78, 'max': 8.0, 'mean': 8.0, 'min': 8.0, 'nevals': 10},\n",
              " {'gen': 79, 'max': 15.0, 'mean': 8.7, 'min': 8.0, 'nevals': 8},\n",
              " {'gen': 80, 'max': 8.0, 'mean': 8.0, 'min': 8.0, 'nevals': 8},\n",
              " {'gen': 81, 'max': 8.0, 'mean': 8.0, 'min': 8.0, 'nevals': 8},\n",
              " {'gen': 82, 'max': 8.0, 'mean': 8.0, 'min': 8.0, 'nevals': 10},\n",
              " {'gen': 83, 'max': 19.0, 'mean': 9.1, 'min': 8.0, 'nevals': 8},\n",
              " {'gen': 84, 'max': 8.0, 'mean': 8.0, 'min': 8.0, 'nevals': 9},\n",
              " {'gen': 85, 'max': 8.0, 'mean': 8.0, 'min': 8.0, 'nevals': 6},\n",
              " {'gen': 86, 'max': 8.0, 'mean': 8.0, 'min': 8.0, 'nevals': 9},\n",
              " {'gen': 87, 'max': 18.0, 'mean': 10.6, 'min': 8.0, 'nevals': 7},\n",
              " {'gen': 88, 'max': 17.0, 'mean': 9.6, 'min': 8.0, 'nevals': 9},\n",
              " {'gen': 89, 'max': 15.0, 'mean': 8.7, 'min': 8.0, 'nevals': 10},\n",
              " {'gen': 90, 'max': 18.0, 'mean': 9.7, 'min': 8.0, 'nevals': 10},\n",
              " {'gen': 91, 'max': 8.0, 'mean': 8.0, 'min': 8.0, 'nevals': 10},\n",
              " {'gen': 92, 'max': 8.0, 'mean': 8.0, 'min': 8.0, 'nevals': 8},\n",
              " {'gen': 93, 'max': 8.0, 'mean': 8.0, 'min': 8.0, 'nevals': 10},\n",
              " {'gen': 94, 'max': 23.0, 'mean': 9.5, 'min': 8.0, 'nevals': 10},\n",
              " {'gen': 95, 'max': 8.0, 'mean': 8.0, 'min': 8.0, 'nevals': 10},\n",
              " {'gen': 96, 'max': 8.0, 'mean': 8.0, 'min': 8.0, 'nevals': 8},\n",
              " {'gen': 97, 'max': 23.0, 'mean': 9.5, 'min': 8.0, 'nevals': 8},\n",
              " {'gen': 98, 'max': 8.0, 'mean': 8.0, 'min': 8.0, 'nevals': 10},\n",
              " {'gen': 99, 'max': 8.0, 'mean': 8.0, 'min': 8.0, 'nevals': 10},\n",
              " {'gen': 100, 'max': 8.0, 'mean': 8.0, 'min': 8.0, 'nevals': 10}]"
            ]
          },
          "metadata": {},
          "execution_count": 352
        }
      ]
    },
    {
      "cell_type": "code",
      "source": [
        "# MOSTRAR O LOG DO MENOR, MAIOR E A MÉDIA DE CADA GERAÇÃO\n",
        "menores = log.select('min')\n",
        "maiores = log.select('max')\n",
        "media = log.select('mean')"
      ],
      "metadata": {
        "id": "QMq6ClKdVT_S"
      },
      "execution_count": 353,
      "outputs": []
    },
    {
      "cell_type": "code",
      "source": [
        "# MOSTRA GRÁFICO\n",
        "# MOSTRAR O RESULTADO DE CADA GERAÇÃO\n",
        "plt.plot(menores, label ='Menores')\n",
        "plt.plot(maiores, label ='Maiores')\n",
        "plt.plot(media, label ='Média')\n",
        "plt.xlabel('geraçao')\n",
        "plt.ylabel('aptidao')\n",
        "plt.legend(loc=1)"
      ],
      "metadata": {
        "colab": {
          "base_uri": "https://localhost:8080/",
          "height": 296
        },
        "id": "y4FWb44BVekR",
        "outputId": "e1c28bf9-32d1-4a69-d795-6957ba3d3d47"
      },
      "execution_count": 354,
      "outputs": [
        {
          "output_type": "execute_result",
          "data": {
            "text/plain": [
              "<matplotlib.legend.Legend at 0x7f9dd3e6ff10>"
            ]
          },
          "metadata": {},
          "execution_count": 354
        },
        {
          "output_type": "display_data",
          "data": {
            "text/plain": [
              "<Figure size 432x288 with 1 Axes>"
            ],
            "image/png": "[encoded data removed]"
          },
          "metadata": {
            "needs_background": "light"
          }
        }
      ]
    },
    {
      "cell_type": "code",
      "source": [
        "# OBS: PARA OBTER RESULTADOS DIFERENTES DO MODELO E NECESSÁRIO AJUSTAR ALGUMAS VARIÁVEIS E PARAMETROS\n",
        "# NÚMERO DE POPULAÇÃO, PROBABILIDADE DE CROSSOVER, PROBABILIDADE DE MUTAÇÃO, NÚMERO DE GERAÇÕES"
      ],
      "metadata": {
        "id": "Csmu_DzsoHEa"
      },
      "execution_count": 355,
      "outputs": []
    }
  ]
}